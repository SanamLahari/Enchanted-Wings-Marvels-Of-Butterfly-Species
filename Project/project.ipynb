{
 "cells": [
  {
   "cell_type": "code",
   "execution_count": 1,
   "id": "a99e57f2-3fdb-4348-ae14-c24e3107dbbc",
   "metadata": {},
   "outputs": [
    {
     "name": "stdout",
     "output_type": "stream",
     "text": [
      "🌸 Enchanted Wings: Marvels of Butterfly Species 🌸\n",
      "\n",
      "🦋 Blue Morpho | Region: Central and South America\n",
      "   ➤ Wing Description: Iridescent blue wings with black edges, shimmering in sunlight.\n",
      "\n",
      "🦋 Glasswing | Region: Central America\n",
      "   ➤ Wing Description: Transparent wings bordered with brown and orange, resembling stained glass.\n",
      "\n",
      "🦋 Peacock Butterfly | Region: Europe and Asia\n",
      "   ➤ Wing Description: Vivid eyespots on red wings, mimicking peacock feathers.\n",
      "\n",
      "🦋 Ulysses Butterfly | Region: Australia\n",
      "   ➤ Wing Description: Brilliant electric blue wings with black outlines.\n",
      "\n",
      "🦋 Paper Kite | Region: Southeast Asia\n",
      "   ➤ Wing Description: Large white wings with bold black patterns, floating gracefully.\n",
      "\n"
     ]
    }
   ],
   "source": [
    "# Enchanted Wings: Marvels of Butterfly Species\n",
    "\n",
    "class Butterfly:\n",
    "    def __init__(self, name: str, habitat: str, wing_description: str):\n",
    "        self.name = name\n",
    "        self.habitat = habitat\n",
    "        self.wing_description = wing_description\n",
    "\n",
    "    def display_marvel(self):\n",
    "        print(f\"🦋 {self.name} | Region: {self.habitat}\")\n",
    "        print(f\"   ➤ Wing Description: {self.wing_description}\\n\")\n",
    "\n",
    "def showcase_butterflies():\n",
    "    butterfly_collection = [\n",
    "        Butterfly(\n",
    "            \"Blue Morpho\",\n",
    "            \"Central and South America\",\n",
    "            \"Iridescent blue wings with black edges, shimmering in sunlight.\"\n",
    "        ),\n",
    "        Butterfly(\n",
    "            \"Glasswing\",\n",
    "            \"Central America\",\n",
    "            \"Transparent wings bordered with brown and orange, resembling stained glass.\"\n",
    "        ),\n",
    "        Butterfly(\n",
    "            \"Peacock Butterfly\",\n",
    "            \"Europe and Asia\",\n",
    "            \"Vivid eyespots on red wings, mimicking peacock feathers.\"\n",
    "        ),\n",
    "        Butterfly(\n",
    "            \"Ulysses Butterfly\",\n",
    "            \"Australia\",\n",
    "            \"Brilliant electric blue wings with black outlines.\"\n",
    "        ),\n",
    "        Butterfly(\n",
    "            \"Paper Kite\",\n",
    "            \"Southeast Asia\",\n",
    "            \"Large white wings with bold black patterns, floating gracefully.\"\n",
    "        ),\n",
    "    ]\n",
    "\n",
    "    print(\"🌸 Enchanted Wings: Marvels of Butterfly Species 🌸\\n\")\n",
    "    for butterfly in butterfly_collection:\n",
    "        butterfly.display_marvel()\n",
    "\n",
    "if __name__ == \"__main__\":\n",
    "    showcase_butterflies()\n"
   ]
  },
  {
   "cell_type": "code",
   "execution_count": null,
   "id": "83b4f877-f51d-4e88-8db9-8f05892df258",
   "metadata": {},
   "outputs": [],
   "source": []
  }
 ],
 "metadata": {
  "kernelspec": {
   "display_name": "Python [conda env:anaconda3]",
   "language": "python",
   "name": "conda-env-anaconda3-py"
  },
  "language_info": {
   "codemirror_mode": {
    "name": "ipython",
    "version": 3
   },
   "file_extension": ".py",
   "mimetype": "text/x-python",
   "name": "python",
   "nbconvert_exporter": "python",
   "pygments_lexer": "ipython3",
   "version": "3.12.7"
  }
 },
 "nbformat": 4,
 "nbformat_minor": 5
}
